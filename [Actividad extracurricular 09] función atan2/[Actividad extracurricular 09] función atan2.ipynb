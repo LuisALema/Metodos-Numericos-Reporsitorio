{
 "cells": [
  {
   "cell_type": "markdown",
   "metadata": {},
   "source": [
    "# [Actividad extracurricular 09] función atan2"
   ]
  },
  {
   "cell_type": "markdown",
   "metadata": {},
   "source": [
    "* Nombre:Luis Lema\n",
    "* Curso:Gr1cc\n",
    "* Materia: Metodos Númericos\n",
    "* Fecha: 09/12/2024"
   ]
  },
  {
   "cell_type": "markdown",
   "metadata": {},
   "source": [
    "## DESARROLLO"
   ]
  },
  {
   "cell_type": "markdown",
   "metadata": {},
   "source": [
    "# Función `atan2`\n",
    "\n",
    "La función `atan2` calcula el ángulo en radianes entre el eje positivo \\(x\\) y un punto \\((x, y)\\) en un plano cartesiano. Es útil porque considera el signo de las coordenadas para determinar el cuadrante correcto del ángulo.\n",
    "\n",
    "## Diferencias entre `atan` y `atan2`\n",
    "\n",
    "| Aspecto         | `atan(y/x)`         | `atan2(y, x)`       |\n",
    "|------------------|---------------------|---------------------|\n",
    "| Entrada          | Relación \\(y/x\\)   | Coordenadas \\((y, x)\\) |\n",
    "| Rango de salida  | $$(-\\pi/2, \\pi/2)$$ | $$([-\\pi, \\pi])$$     |\n",
    "| Cuadrante        | No distingue        | Distingue          |\n",
    "| División por cero| Posible error       | Manejado internamente |\n",
    "\n",
    "A continuación, se muestran ejemplos prácticos de cómo usar la función `atan2` en Python.\n"
   ]
  },
  {
   "cell_type": "code",
   "execution_count": 1,
   "metadata": {},
   "outputs": [
    {
     "name": "stdout",
     "output_type": "stream",
     "text": [
      "Ejemplo 1: 0.7853981633974483\n",
      "Ejemplo 2: -0.7853981633974483\n",
      "Ejemplo 3: 2.356194490192345\n",
      "Ejemplo 4: 0.0\n",
      "Ejemplo 5: 3.141592653589793\n"
     ]
    }
   ],
   "source": [
    "import math\n",
    "\n",
    "# Ejemplo 1: Ángulo entre (1, 1)\n",
    "angulo1 = math.atan2(1, 1)\n",
    "print(\"Ejemplo 1:\", angulo1)\n",
    "\n",
    "# Ejemplo 2: Ángulo en el cuarto cuadrante (-1, 1)\n",
    "angulo2 = math.atan2(-1, 1)\n",
    "print(\"Ejemplo 2:\", angulo2)\n",
    "\n",
    "# Ejemplo 3: Ángulo en el segundo cuadrante (1, -1)\n",
    "angulo3 = math.atan2(1, -1)\n",
    "print(\"Ejemplo 3:\", angulo3)\n",
    "\n",
    "# Ejemplo 4: Coordenada en el eje X positivo\n",
    "angulo4 = math.atan2(0, 1)\n",
    "print(\"Ejemplo 4:\", angulo4)\n",
    "\n",
    "# Ejemplo 5: Coordenada en el eje X negativo\n",
    "angulo5 = math.atan2(0, -1)\n",
    "print(\"Ejemplo 5:\", angulo5)\n"
   ]
  },
  {
   "cell_type": "markdown",
   "metadata": {},
   "source": [
    "## Conclusión\n",
    "\n",
    "La función `atan2` es preferible en la mayoría de las aplicaciones geométricas porque:\n",
    "- Identifica el cuadrante correcto del ángulo.\n",
    "- Es robusta frente a divisiones por cero.\n",
    "- Permite trabajar con coordenadas cartesianas de forma directa y precisa.\n"
   ]
  }
 ],
 "metadata": {
  "kernelspec": {
   "display_name": "Python 3",
   "language": "python",
   "name": "python3"
  },
  "language_info": {
   "codemirror_mode": {
    "name": "ipython",
    "version": 3
   },
   "file_extension": ".py",
   "mimetype": "text/x-python",
   "name": "python",
   "nbconvert_exporter": "python",
   "pygments_lexer": "ipython3",
   "version": "3.13.0"
  }
 },
 "nbformat": 4,
 "nbformat_minor": 2
}
