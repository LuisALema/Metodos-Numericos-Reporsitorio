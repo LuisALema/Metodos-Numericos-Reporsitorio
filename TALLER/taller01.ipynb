{
 "cells": [
  {
   "cell_type": "markdown",
   "metadata": {},
   "source": [
    "# Taller  0-1 Notebook\n",
    "* Google Colab\n",
    "* Kaggle\n",
    "* Visual Studio Code\n",
    "\n",
    "Crear repositorio a Github!\n",
    "Subir al aula virtual link de repo **público**."
   ]
  },
  {
   "cell_type": "markdown",
   "metadata": {},
   "source": []
  },
  {
   "cell_type": "markdown",
   "metadata": {},
   "source": [
    "## Enlaces interés\n",
    "* https://gitmoji.dev/\n",
    "* https://github.com/ztjona/taller-01-MN"
   ]
  },
  {
   "cell_type": "markdown",
   "metadata": {},
   "source": [
    "# TAREA GRAFICAR\n",
    "$y(x)=x^3-7x^2+4x+12$\n",
    "\n",
    "## Recomendaciones\n",
    "* Hacer tabla\n",
    "\n",
    "| i | x | y|\n",
    "|---|---|---|\n",
    "| 0 | -5 | ? |\n",
    "| 1 | 0 | ? |\n",
    "| 2 | 5 | ? |"
   ]
  },
  {
   "cell_type": "code",
   "execution_count": 7,
   "metadata": {},
   "outputs": [],
   "source": [
    "# y(x)=x^3-7x^2+4x+12\n",
    "def eqn(x: int) -> int:\n",
    "    # ** símbolo de potencia en python, no se usa el `^` como en otros lenguajes\n",
    "    return x**3 - 7 * x**2 + 4 * x + 12"
   ]
  },
  {
   "cell_type": "code",
   "execution_count": 54,
   "metadata": {},
   "outputs": [],
   "source": [
    "# generación de puntos para la gráfica\n",
    "import numpy as np\n",
    "\n",
    "## TAREA generar 100 datos del -10 al 10\n",
    "Xs, step = np.linspace(-10, 10, num=15, retstep=True)"
   ]
  },
  {
   "cell_type": "code",
   "execution_count": 55,
   "metadata": {},
   "outputs": [
    {
     "name": "stdout",
     "output_type": "stream",
     "text": [
      "x = -10.00 \ty = -1.73e+03\n",
      "x = -8.57 \ty = -1.17e+03\n",
      "x = -7.14 \ty = -7.38e+02\n",
      "x = -5.71 \ty = -4.26e+02\n",
      "x = -4.29 \ty = -2.12e+02\n",
      "x = -2.86 \ty = -7.99e+01\n",
      "x = -1.43 \ty = -1.09e+01\n",
      "x = 0.00 \ty = 1.20e+01\n",
      "x = 1.43 \ty = 6.34e+00\n",
      "x = 2.86 \ty = -1.04e+01\n",
      "x = 4.29 \ty = -2.07e+01\n",
      "x = 5.71 \ty = -7.13e+00\n",
      "x = 7.14 \ty = 4.79e+01\n",
      "x = 8.57 \ty = 1.62e+02\n",
      "x = 10.00 \ty = 3.52e+02\n"
     ]
    },
    {
     "data": {
      "text/plain": [
       "[-1728.0,\n",
       " -1166.3090379008745,\n",
       " -738.1457725947521,\n",
       " -426.01749271137027,\n",
       " -212.43148688046645,\n",
       " -79.89504373177842,\n",
       " -10.915451895043741,\n",
       " 12.0,\n",
       " 6.344023323615158,\n",
       " -10.39067055393587,\n",
       " -20.711370262390666,\n",
       " -7.125364431486872,\n",
       " 47.86005830903788,\n",
       " 161.73760932944623,\n",
       " 352.0]"
      ]
     },
     "execution_count": 55,
     "metadata": {},
     "output_type": "execute_result"
    }
   ],
   "source": [
    "Ys = []\n",
    "for x in Xs:\n",
    "    y = eqn(x)\n",
    "    # Xs.append(x)\n",
    "    Ys.append(y)\n",
    "    print(f\"x = {x:.2f} \\ty = {y:.2e}\")\n",
    "Ys"
   ]
  },
  {
   "cell_type": "code",
   "execution_count": null,
   "metadata": {},
   "outputs": [
    {
     "ename": "NameError",
     "evalue": "name 'Xs' is not defined",
     "output_type": "error",
     "traceback": [
      "\u001b[1;31m---------------------------------------------------------------------------\u001b[0m",
      "\u001b[1;31mNameError\u001b[0m                                 Traceback (most recent call last)",
      "Cell \u001b[1;32mIn[3], line 5\u001b[0m\n\u001b[0;32m      1\u001b[0m \u001b[38;5;28;01mfrom\u001b[39;00m \u001b[38;5;21;01mmatplotlib\u001b[39;00m \u001b[38;5;28;01mimport\u001b[39;00m pyplot \u001b[38;5;28;01mas\u001b[39;00m plt\n\u001b[0;32m      3\u001b[0m \u001b[38;5;66;03m# import seaborn as sns ## alternativa chévere\u001b[39;00m\n\u001b[1;32m----> 5\u001b[0m plt\u001b[38;5;241m.\u001b[39mplot(\u001b[43mXs\u001b[49m, Ys, marker\u001b[38;5;241m=\u001b[39m\u001b[38;5;124m\"\u001b[39m\u001b[38;5;124m.\u001b[39m\u001b[38;5;124m\"\u001b[39m, color\u001b[38;5;241m=\u001b[39m\u001b[38;5;124m\"\u001b[39m\u001b[38;5;124mblue\u001b[39m\u001b[38;5;124m\"\u001b[39m, linestyle\u001b[38;5;241m=\u001b[39m\u001b[38;5;124m\"\u001b[39m\u001b[38;5;124m:\u001b[39m\u001b[38;5;124m\"\u001b[39m)\n\u001b[0;32m      6\u001b[0m plt\u001b[38;5;241m.\u001b[39mxlabel(\u001b[38;5;124m\"\u001b[39m\u001b[38;5;124mEje x\u001b[39m\u001b[38;5;124m\"\u001b[39m)\n\u001b[0;32m      7\u001b[0m plt\u001b[38;5;241m.\u001b[39mylabel(\u001b[38;5;124m\"\u001b[39m\u001b[38;5;124mEje y\u001b[39m\u001b[38;5;124m\"\u001b[39m)\n",
      "\u001b[1;31mNameError\u001b[0m: name 'Xs' is not defined"
     ]
    }
   ],
   "source": [
    "from matplotlib import pyplot as plt\n",
    "\n",
    "# import seaborn as sns ## alternativa chévere\n",
    "\n",
    "plt.plot(Xs, Ys, marker=\".\", color=\"blue\", linestyle=\":\")\n",
    "plt.xlabel(\"Eje x\")\n",
    "plt.ylabel(\"Eje y\")\n",
    "plt.title(\"Gráfica de función cúbica\")\n",
    "plt.grid()\n",
    "plt.legend([\"$y=x^3-7x^2+4x+12$\"])\n",
    "plt.show()\n",
    "\n",
    "## TAREA hacer zoom"
   ]
  }
 ],
 "metadata": {
  "kernelspec": {
   "display_name": "Python 3",
   "language": "python",
   "name": "python3"
  },
  "language_info": {
   "codemirror_mode": {
    "name": "ipython",
    "version": 3
   },
   "file_extension": ".py",
   "mimetype": "text/x-python",
   "name": "python",
   "nbconvert_exporter": "python",
   "pygments_lexer": "ipython3",
   "version": "3.13.0"
  }
 },
 "nbformat": 4,
 "nbformat_minor": 2
}
