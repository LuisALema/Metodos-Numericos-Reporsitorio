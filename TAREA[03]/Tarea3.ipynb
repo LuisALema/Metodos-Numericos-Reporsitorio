{
 "cells": [
  {
   "cell_type": "markdown",
   "metadata": {},
   "source": [
    "# Tarea 3\n",
    "\n",
    "* Nombre: Luis Lema\n",
    "* Fecha: 30/10/2024\n",
    "\n",
    "## Algoritmos y Complejidad\n",
    "Resuelva los ejercicios adjuntos."
   ]
  },
  {
   "cell_type": "markdown",
   "metadata": {},
   "source": [
    "# Ejercicio 2 \n",
    "La serie de Maclaurin para la función arcotangente converge para −1 < 𝑥 ≤ 1 y está dada por"
   ]
  },
  {
   "cell_type": "markdown",
   "metadata": {},
   "source": [
    "$$\n",
    "\\arctan(x) = \\lim_{n \\to \\infty} P_n(x) = \\lim_{n \\to \\infty} \\sum_{i=0}^{n} \\frac{(-1)^{i+1} x^{2i-1}}{2i - 1}\n",
    "$$\n"
   ]
  },
  {
   "cell_type": "markdown",
   "metadata": {},
   "source": [
    "* Utilice el hecho de que tan 𝜋⁄4 = 1 para determinar el número n de términos de la serie que se necesita\n",
    "sumar para garantizar que |4𝑃𝑛\n",
    "(1) − 𝜋| < 10−3\n"
   ]
  },
  {
   "cell_type": "code",
   "execution_count": 7,
   "metadata": {},
   "outputs": [
    {
     "name": "stdout",
     "output_type": "stream",
     "text": [
      "Número de términos necesarios: 1000\n",
      "Valor aproximado de pi: 3.140592653839794\n"
     ]
    }
   ],
   "source": [
    "def calcular_pi(precision):\n",
    "    n = 1\n",
    "    suma = 0\n",
    "    x = 1\n",
    "    pi = 3.14159265358979323846  # Valor de pi\n",
    "\n",
    "    while True:\n",
    "        # Calcular el término de la serie\n",
    "        termino = ((-1) ** (n + 1)) * (x ** (2 * n - 1)) / (2 * n - 1)\n",
    "        suma += termino\n",
    "\n",
    "        # Calcular P_n y la diferencia con pi\n",
    "        P_n = 4 * suma\n",
    "        diferencia = abs(P_n - pi)\n",
    "\n",
    "        # Comprobar si se cumple la precisión\n",
    "        if diferencia < precision:\n",
    "            break  # Salir del bucle si se cumple la precisión\n",
    "\n",
    "        # Incrementar n para el siguiente término\n",
    "        n += 1\n",
    "\n",
    "    # Resultado\n",
    "    return n, P_n\n",
    "\n",
    "# Definir la precisión requerida\n",
    "precision = 1e-3\n",
    "num_terminos, valor_pi = calcular_pi(precision)\n",
    "\n",
    "print(\"Número de términos necesarios:\", num_terminos)\n",
    "print(\"Valor aproximado de pi:\", valor_pi)\n",
    "\n"
   ]
  },
  {
   "cell_type": "markdown",
   "metadata": {},
   "source": [
    "*El lenguaje de programación C++ requiere que el valor de 𝜋 se encuentre dentro de 10−10. ¿Cuántos\n",
    "términos de la serie se necesitarían sumar para obtener este grado de precisión?\n"
   ]
  },
  {
   "cell_type": "code",
   "execution_count": 8,
   "metadata": {},
   "outputs": [
    {
     "name": "stdout",
     "output_type": "stream",
     "text": [
      "El número de iteraciones ha alcanzado el límite máximo sin converger.\n"
     ]
    }
   ],
   "source": [
    "import math\n",
    "\n",
    "def calcular_pi(precision, max_iterations):\n",
    "    n = 1\n",
    "    suma = 0\n",
    "    pi = math.pi\n",
    "\n",
    "    while n <= max_iterations:\n",
    "        # Calcular el término de la serie\n",
    "        termino = ((-1) ** (n + 1)) * (1 ** (2 * n - 1)) / (2 * n - 1)\n",
    "        suma += termino\n",
    "        \n",
    "        # Calcular P_n y la diferencia con pi\n",
    "        P_n = 4 * suma\n",
    "        diferencia = abs(P_n - pi)\n",
    "\n",
    "        # Comprobar si se cumple la precisión\n",
    "        if diferencia < precision:\n",
    "            return n, P_n  # Retornar el número de términos y el valor de pi aproximado\n",
    "        \n",
    "        # Incrementar n para el siguiente término\n",
    "        n += 1\n",
    "\n",
    "    return None, None  # Retornar None si no se cumple la precisión\n",
    "\n",
    "# Definir la precisión requerida y el límite de iteraciones\n",
    "precision = 10 ** (-10)\n",
    "max_iterations = 10000\n",
    "\n",
    "num_terminos, valor_pi = calcular_pi(precision, max_iterations)\n",
    "\n",
    "if num_terminos is not None:\n",
    "    print(\"Número de términos requeridos:\", num_terminos)\n",
    "    print(\"Valor aproximado de pi:\", valor_pi)\n",
    "else:\n",
    "    print(\"El número de iteraciones ha alcanzado el límite máximo sin converger.\")\n",
    "\n"
   ]
  },
  {
   "cell_type": "markdown",
   "metadata": {},
   "source": [
    "# Ejercicio 3\n",
    "Otra fórmula para calcular $$( π)$$ se puede deducir a partir de la identidad:\n",
    "\n",
    "$$\n",
    "\\frac{\\pi}{4} = 4 \\cdot \\arctan(1) - \\arctan\\left(\\frac{1}{239}\\right).\n",
    "$$\n",
    "\n",
    "Determine el número de términos que se deben sumar para garantizar una aproximación de $$( pi)$$ dentro de $$( 10^{-3} )$$.\n"
   ]
  },
  {
   "cell_type": "code",
   "execution_count": 9,
   "metadata": {},
   "outputs": [
    {
     "name": "stdout",
     "output_type": "stream",
     "text": [
      "Para una precisión de 0.001, se necesitan 2 términos.\n",
      "Valor aproximado de π: 3.1416210293260605\n"
     ]
    }
   ],
   "source": [
    "import math\n",
    "\n",
    "def maclaurin_arctan(x, precision):\n",
    "    n = 0\n",
    "    term = x\n",
    "    sum = term\n",
    "    while abs(term) > precision:\n",
    "        n += 1\n",
    "        term = (-1)**n * x**(2*n+1) / (2*n+1)\n",
    "        sum += term\n",
    "    return sum, n\n",
    "\n",
    "def calculate_pi(precision):\n",
    "    arctan_1_5, terms_1_5 = maclaurin_arctan(1/5, precision)\n",
    "    arctan_1_239, terms_1_239 = maclaurin_arctan(1/239, precision)\n",
    "    \n",
    "    pi_approx = 4 * (4 * arctan_1_5 - arctan_1_239)\n",
    "    total_terms = max(terms_1_5, terms_1_239)\n",
    "    \n",
    "    return pi_approx, total_terms\n",
    "\n",
    "precision = 10**-3\n",
    "pi_approx, total_terms = calculate_pi(precision)\n",
    "print(f\"Para una precisión de {precision}, se necesitan {total_terms} términos.\")\n",
    "print(f\"Valor aproximado de π: {pi_approx}\")\n"
   ]
  },
  {
   "cell_type": "markdown",
   "metadata": {},
   "source": [
    "# Ejercicio 5\n",
    "* ¿Cuántas multiplicaciones y sumas se requieren para determinar una suma de la forma\n",
    "$$\n",
    "\\sum_{i=1}^{n} \\sum_{j=1}^{n} a_{i} b_{j}\n",
    "$$\n"
   ]
  },
  {
   "cell_type": "code",
   "execution_count": 2,
   "metadata": {},
   "outputs": [
    {
     "name": "stdout",
     "output_type": "stream",
     "text": [
      "Suma total de los productos: 1000\n",
      "Total de multiplicaciones realizadas: 10\n"
     ]
    }
   ],
   "source": [
    "# Solicitar al usuario la cantidad de elementos a procesar\n",
    "num_elementos = int(input(\"Ingrese la cantidad de elementos: \"))\n",
    "\n",
    "# Inicializar contadores\n",
    "total_suma = 0\n",
    "total_multiplicaciones = 0\n",
    "\n",
    "# Usar un bucle para iterar sobre el número de elementos\n",
    "for index in range(num_elementos):\n",
    "    # Solicitar los valores a_i y b_i\n",
    "    a_valor = int(input(f\"Ingrese el valor de a_{index + 1}: \"))\n",
    "    b_valor = int(input(f\"Ingrese el valor de b_{index + 1}: \"))\n",
    "    \n",
    "    # Calcular el producto\n",
    "    producto = a_valor * b_valor\n",
    "\n",
    "    # Acumular el producto en total_suma\n",
    "    total_suma += producto\n",
    "\n",
    "    # Contar la multiplicación realizada\n",
    "    total_multiplicaciones += 1\n",
    "\n",
    "# Resultado\n",
    "print(\"Suma total de los productos:\", total_suma)\n",
    "print(\"Total de multiplicaciones realizadas:\", total_multiplicaciones)\n"
   ]
  },
  {
   "cell_type": "markdown",
   "metadata": {},
   "source": [
    "* Modifique la suma en la parte a) a un formato equivalente que reduzca el número de cálculos.\n"
   ]
  },
  {
   "cell_type": "code",
   "execution_count": 3,
   "metadata": {},
   "outputs": [
    {
     "name": "stdout",
     "output_type": "stream",
     "text": [
      "Suma total de los productos: 1000\n",
      "Total de multiplicaciones realizadas: 10\n",
      "Total de sumas realizadas: 10\n"
     ]
    }
   ],
   "source": [
    "# Solicitar al usuario el número de elementos a procesar\n",
    "num_elementos = int(input(\"Especifique la cantidad de elementos: \"))\n",
    "\n",
    "# Inicialización de acumuladores\n",
    "total_acumulado = 0\n",
    "total_multiplicaciones = 0\n",
    "total_sumas = 0\n",
    "\n",
    "# Almacenar los valores de b solo una vez\n",
    "valores_b = [int(input(f\"Ingrese el valor de b_{indice + 1}: \")) for indice in range(num_elementos)]\n",
    "\n",
    "# Calcular la suma total\n",
    "for i in range(1, num_elementos + 1):\n",
    "    # Solicitar el valor de a_i una vez por cada i\n",
    "    valor_a = int(input(f\"Ingrese el valor de a_{i}: \"))\n",
    "    \n",
    "    # Acumular la suma de multiplicaciones para cada a_i * b_j donde j va de 0 a i-1\n",
    "    suma_parcial = 0\n",
    "    for j in range(i):\n",
    "        suma_parcial += valor_a * valores_b[j]\n",
    "        total_multiplicaciones += 1\n",
    "\n",
    "    # Añadir la suma parcial al total acumulado\n",
    "    total_acumulado += suma_parcial\n",
    "    total_sumas += i  # Incrementar por la cantidad de sumas realizadas en esta iteración\n",
    "\n",
    "# Mostrar los resultados\n",
    "print(\"Suma total de los productos:\", total_acumulado)\n",
    "print(\"Total de multiplicaciones realizadas:\", total_multiplicaciones)\n",
    "print(\"Total de sumas realizadas:\", total_sumas)\n"
   ]
  },
  {
   "cell_type": "markdown",
   "metadata": {},
   "source": [
    "# Discusiones"
   ]
  },
  {
   "cell_type": "markdown",
   "metadata": {},
   "source": [
    "## Ejercicios\n"
   ]
  },
  {
   "cell_type": "markdown",
   "metadata": {},
   "source": [
    "### Ejercicio N°1\n",
    "\n",
    "* Las ecuaciones (1.2) y (1.3) en la sección 1.2 proporcionan formas alternativas para las raíces 𝑥1 y 𝑥2 de\n",
    "𝑎𝑥\n",
    "2 + 𝑏𝑥 + 𝑐 = 0. Construya un algoritmo con entrada 𝑎, 𝑏, 𝑐 c y salida 𝑥1, 𝑥2 que calcule las raíces 𝑥1 y 𝑥2\n",
    "(que pueden ser iguales con conjugados complejos) mediante la mejor fórmula para cada raíz."
   ]
  },
  {
   "cell_type": "code",
   "execution_count": 5,
   "metadata": {},
   "outputs": [
    {
     "name": "stdout",
     "output_type": "stream",
     "text": [
      "Las raíces complejas de la ecuación cuadrática son:\n",
      "x1 = -0.5 + i * 0.8660254037844386\n",
      "x2 = -0.5 - i * 0.8660254037844386\n"
     ]
    }
   ],
   "source": [
    "import math\n",
    "\n",
    "# Función para obtener los coeficientes de la ecuación cuadrática\n",
    "def obtener_coeficientes():\n",
    "    a = float(input(\"Introduce el coeficiente a: \"))\n",
    "    b = float(input(\"Introduce el coeficiente b: \"))\n",
    "    c = float(input(\"Introduce el coeficiente c: \"))\n",
    "    return a, b, c\n",
    "\n",
    "# Función para calcular las raíces\n",
    "def calcular_raices(a, b, c):\n",
    "    discriminante = b ** 2 - 4 * a * c\n",
    "\n",
    "    if discriminante >= 0:\n",
    "        # Raíces reales\n",
    "        raiz1 = (-b + math.sqrt(discriminante)) / (2 * a)\n",
    "        raiz2 = (-b - math.sqrt(discriminante)) / (2 * a)\n",
    "        return raiz1, raiz2, None\n",
    "    else:\n",
    "        # Raíces complejas\n",
    "        parte_real = -b / (2 * a)\n",
    "        parte_imaginaria = math.sqrt(abs(discriminante)) / (2 * a)\n",
    "        return parte_real, parte_imaginaria, True\n",
    "\n",
    "# Main program\n",
    "coef_a, coef_b, coef_c = obtener_coeficientes()\n",
    "raiz1, raiz2, es_compleja = calcular_raices(coef_a, coef_b, coef_c)\n",
    "\n",
    "if es_compleja:\n",
    "    # Imprimir raíces complejas\n",
    "    print(\"Las raíces complejas de la ecuación cuadrática son:\")\n",
    "    print(f\"x1 = {raiz1} + i * {raiz2}\")\n",
    "    print(f\"x2 = {raiz1} - i * {raiz2}\")\n",
    "else:\n",
    "    # Imprimir raíces reales\n",
    "    print(\"Las raíces de la ecuación cuadrática son:\")\n",
    "    print(f\"x1 = {raiz1}\")\n",
    "    print(f\"x2 = {raiz2}\")\n",
    "\n"
   ]
  },
  {
   "cell_type": "markdown",
   "metadata": {},
   "source": [
    "Enlace Reposotorio GITHUB \n",
    "[Repositorio Luis Lema](https://github.com/LuisALema/Metodos-Numericos-Reporsitorio)"
   ]
  }
 ],
 "metadata": {
  "kernelspec": {
   "display_name": "Python 3",
   "language": "python",
   "name": "python3"
  },
  "language_info": {
   "codemirror_mode": {
    "name": "ipython",
    "version": 3
   },
   "file_extension": ".py",
   "mimetype": "text/x-python",
   "name": "python",
   "nbconvert_exporter": "python",
   "pygments_lexer": "ipython3",
   "version": "3.13.0"
  }
 },
 "nbformat": 4,
 "nbformat_minor": 2
}
