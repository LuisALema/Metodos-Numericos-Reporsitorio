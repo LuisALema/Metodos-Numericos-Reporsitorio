{
 "cells": [
  {
   "cell_type": "markdown",
   "metadata": {},
   "source": [
    "### Deber Opcional 7\n",
    "* Nombre: Luis Lema\n",
    "* Fecha : 02/12/2024\n"
   ]
  },
  {
   "cell_type": "markdown",
   "metadata": {},
   "source": [
    "# Ejercicio Base\n"
   ]
  },
  {
   "cell_type": "code",
   "execution_count": 1,
   "metadata": {},
   "outputs": [],
   "source": [
    "import os,sys\n",
    "def   mi_funcion(x,y):return x+y\n",
    "def otraFuncion(): print( \"Hola Mundo\" );  return   42\n",
    "class MiClase:\n",
    " def __init__(self,valor): self.valor=valor\n",
    " def metodo(self,numero):return self.valor*numero\n"
   ]
  },
  {
   "cell_type": "markdown",
   "metadata": {},
   "source": [
    "### Ejercicio Adecuado Para la Libreria Black\n",
    "* Formateo estrictamente opinado, enfocado en consistencia."
   ]
  },
  {
   "cell_type": "code",
   "execution_count": 2,
   "metadata": {},
   "outputs": [],
   "source": [
    "import os\n",
    "import sys\n",
    "\n",
    "\n",
    "def mi_funcion(x, y):\n",
    "    return x + y\n",
    "\n",
    "\n",
    "def otraFuncion():\n",
    "    print(\"Hola Mundo\")\n",
    "    return 42\n",
    "\n",
    "\n",
    "class MiClase:\n",
    "    def __init__(self, valor):\n",
    "        self.valor = valor\n",
    "\n",
    "    def metodo(self, numero):\n",
    "        return self.valor * numero\n"
   ]
  },
  {
   "cell_type": "markdown",
   "metadata": {},
   "source": [
    "### Ejercicio Adecuado Para la Libreria autopep8\n",
    "* Ajusta el código estrictamente a las reglas de PEP 8, sin cambios adicionales."
   ]
  },
  {
   "cell_type": "code",
   "execution_count": 3,
   "metadata": {},
   "outputs": [],
   "source": [
    "import os\n",
    "import sys\n",
    "\n",
    "\n",
    "def mi_funcion(x, y):\n",
    "    return x + y\n",
    "\n",
    "\n",
    "def otraFuncion():\n",
    "    print(\"Hola Mundo\")\n",
    "    return 42\n",
    "\n",
    "\n",
    "class MiClase:\n",
    "    def __init__(self, valor):\n",
    "        self.valor = valor\n",
    "\n",
    "    def metodo(self, numero):\n",
    "        return self.valor * numero\n"
   ]
  },
  {
   "cell_type": "markdown",
   "metadata": {},
   "source": [
    "### Ejercicio Adecuado Para la Libreria YAPF\n",
    "* Ofrece más opciones de personalización en su configuración."
   ]
  },
  {
   "cell_type": "code",
   "execution_count": null,
   "metadata": {},
   "outputs": [],
   "source": [
    "import os\n",
    "import sys\n",
    "\n",
    "\n",
    "def mi_funcion(x, y):\n",
    "    return x + y\n",
    "\n",
    "\n",
    "def otraFuncion():\n",
    "    print(\"Hola Mundo\")\n",
    "    return 42\n",
    "\n",
    "\n",
    "class MiClase:\n",
    "    def __init__(self, valor):\n",
    "        self.valor = valor\n",
    "\n",
    "    def metodo(self, numero):\n",
    "        return self.valor * numero\n"
   ]
  },
  {
   "cell_type": "markdown",
   "metadata": {},
   "source": [
    "### Ejercicio Adecuado Para la Libreria isort\n",
    "* Especializado en ordenar imports (ideal para proyectos grandes)."
   ]
  },
  {
   "cell_type": "code",
   "execution_count": 4,
   "metadata": {},
   "outputs": [],
   "source": [
    "import os\n",
    "import sys\n",
    "\n",
    "\n",
    "def mi_funcion(x, y):\n",
    "    return x + y\n",
    "\n",
    "\n",
    "def otraFuncion():\n",
    "    print(\"Hola Mundo\")\n",
    "    return 42\n",
    "\n",
    "\n",
    "class MiClase:\n",
    "    def __init__(self, valor):\n",
    "        self.valor = valor\n",
    "\n",
    "    def metodo(self, numero):\n",
    "        return self.valor * numero\n"
   ]
  },
  {
   "cell_type": "markdown",
   "metadata": {},
   "source": [
    "### Comparación clave:\n",
    "* Black: Cambia el código agresivamente para seguir sus propias reglas.\n",
    "\n",
    "* autopep8: Se ajusta estrictamente a PEP 8, sin preferencias externas.\n",
    "\n",
    "* YAPF: Similar a autopep8 pero más personalizable.\n",
    "\n",
    "* isort: Útil para mantener ordenados los imports; no formatea el código restante."
   ]
  }
 ],
 "metadata": {
  "kernelspec": {
   "display_name": "Python 3",
   "language": "python",
   "name": "python3"
  },
  "language_info": {
   "codemirror_mode": {
    "name": "ipython",
    "version": 3
   },
   "file_extension": ".py",
   "mimetype": "text/x-python",
   "name": "python",
   "nbconvert_exporter": "python",
   "pygments_lexer": "ipython3",
   "version": "3.13.0"
  }
 },
 "nbformat": 4,
 "nbformat_minor": 2
}
