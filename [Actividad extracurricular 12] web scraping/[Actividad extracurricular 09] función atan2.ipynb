{
 "cells": [
  {
   "cell_type": "markdown",
   "metadata": {},
   "source": [
    "# [Actividad extracurricular 12] web scraping"
   ]
  },
  {
   "cell_type": "markdown",
   "metadata": {},
   "source": [
    "* Nombre:Luis Lema\n",
    "* Curso:Gr1cc\n",
    "* Materia: Metodos Númericos\n",
    "* Fecha:07/01/2024"
   ]
  },
  {
   "cell_type": "markdown",
   "metadata": {},
   "source": [
    "## DESARROLLO"
   ]
  },
  {
   "cell_type": "markdown",
   "metadata": {},
   "source": [
    "# Revisar qué es web scraping\n",
    "\n",
    "\n"
   ]
  },
  {
   "cell_type": "markdown",
   "metadata": {},
   "source": [
    "Web scraping es el proceso de extraer información de sitios web de manera automatizada. Se utiliza para recopilar datos estructurados de páginas web que no están directamente disponibles a través de una API. Es una herramienta valiosa para recopilar datos a gran escala, como precios de productos, información de noticias o estadísticas."
   ]
  },
  {
   "cell_type": "markdown",
   "metadata": {},
   "source": [
    "# Realizar una prueba en python para dos librerías diferentes\n",
    "# Realizar scraping de un sitio web de su elección"
   ]
  },
  {
   "cell_type": "markdown",
   "metadata": {},
   "source": [
    "## Beautiful Soup"
   ]
  },
  {
   "cell_type": "code",
   "execution_count": 2,
   "metadata": {},
   "outputs": [
    {
     "name": "stdout",
     "output_type": "stream",
     "text": [
      "Cita: “The world as we have created it is a process of our thinking. It cannot be changed without changing our thinking.”\n",
      "Autor: Albert Einstein\n",
      "Etiquetas: change, deep-thoughts, thinking, world\n",
      "--------------------------------------------------\n",
      "Cita: “It is our choices, Harry, that show what we truly are, far more than our abilities.”\n",
      "Autor: J.K. Rowling\n",
      "Etiquetas: abilities, choices\n",
      "--------------------------------------------------\n",
      "Cita: “There are only two ways to live your life. One is as though nothing is a miracle. The other is as though everything is a miracle.”\n",
      "Autor: Albert Einstein\n",
      "Etiquetas: inspirational, life, live, miracle, miracles\n",
      "--------------------------------------------------\n",
      "Cita: “The person, be it gentleman or lady, who has not pleasure in a good novel, must be intolerably stupid.”\n",
      "Autor: Jane Austen\n",
      "Etiquetas: aliteracy, books, classic, humor\n",
      "--------------------------------------------------\n",
      "Cita: “Imperfection is beauty, madness is genius and it's better to be absolutely ridiculous than absolutely boring.”\n",
      "Autor: Marilyn Monroe\n",
      "Etiquetas: be-yourself, inspirational\n",
      "--------------------------------------------------\n",
      "Cita: “Try not to become a man of success. Rather become a man of value.”\n",
      "Autor: Albert Einstein\n",
      "Etiquetas: adulthood, success, value\n",
      "--------------------------------------------------\n",
      "Cita: “It is better to be hated for what you are than to be loved for what you are not.”\n",
      "Autor: André Gide\n",
      "Etiquetas: life, love\n",
      "--------------------------------------------------\n",
      "Cita: “I have not failed. I've just found 10,000 ways that won't work.”\n",
      "Autor: Thomas A. Edison\n",
      "Etiquetas: edison, failure, inspirational, paraphrased\n",
      "--------------------------------------------------\n",
      "Cita: “A woman is like a tea bag; you never know how strong it is until it's in hot water.”\n",
      "Autor: Eleanor Roosevelt\n",
      "Etiquetas: misattributed-eleanor-roosevelt\n",
      "--------------------------------------------------\n",
      "Cita: “A day without sunshine is like, you know, night.”\n",
      "Autor: Steve Martin\n",
      "Etiquetas: humor, obvious, simile\n",
      "--------------------------------------------------\n"
     ]
    }
   ],
   "source": [
    "from bs4 import BeautifulSoup\n",
    "import requests\n",
    "\n",
    "# URL del sitio web\n",
    "url = \"http://quotes.toscrape.com\"\n",
    "\n",
    "# Realizando la solicitud al servidor\n",
    "response = requests.get(url)\n",
    "\n",
    "# Analizando el contenido HTML\n",
    "soup = BeautifulSoup(response.text, 'html.parser')\n",
    "\n",
    "# Extrayendo las citas, autores y etiquetas\n",
    "quotes = soup.find_all('span', class_='text')\n",
    "authors = soup.find_all('small', class_='author')\n",
    "tags = soup.find_all('div', class_='tags')\n",
    "\n",
    "# Almacenando los datos extraídos\n",
    "data = []\n",
    "for i in range(len(quotes)):\n",
    "    quote = quotes[i].text\n",
    "    author = authors[i].text\n",
    "    quote_tags = [tag.text for tag in tags[i].find_all('a', class_='tag')]\n",
    "    data.append({\n",
    "        'quote': quote,\n",
    "        'author': author,\n",
    "        'tags': ', '.join(quote_tags)\n",
    "    })\n",
    "\n",
    "# Mostrando los resultados\n",
    "for item in data:\n",
    "    print(f\"Cita: {item['quote']}\")\n",
    "    print(f\"Autor: {item['author']}\")\n",
    "    print(f\"Etiquetas: {item['tags']}\")\n",
    "    print(\"-\" * 50)\n"
   ]
  },
  {
   "cell_type": "markdown",
   "metadata": {},
   "source": [
    "##  PyQuery"
   ]
  },
  {
   "cell_type": "code",
   "execution_count": 8,
   "metadata": {},
   "outputs": [
    {
     "name": "stdout",
     "output_type": "stream",
     "text": [
      "Cita: “The world as we have created it is a process of our thinking. It cannot be changed without changing our thinking.”\n",
      "Autor: Albert Einstein\n",
      "Etiquetas: change, deep-thoughts, thinking, world\n",
      "--------------------------------------------------\n",
      "Cita: “It is our choices, Harry, that show what we truly are, far more than our abilities.”\n",
      "Autor: J.K. Rowling\n",
      "Etiquetas: abilities, choices\n",
      "--------------------------------------------------\n",
      "Cita: “There are only two ways to live your life. One is as though nothing is a miracle. The other is as though everything is a miracle.”\n",
      "Autor: Albert Einstein\n",
      "Etiquetas: inspirational, life, live, miracle, miracles\n",
      "--------------------------------------------------\n",
      "Cita: “The person, be it gentleman or lady, who has not pleasure in a good novel, must be intolerably stupid.”\n",
      "Autor: Jane Austen\n",
      "Etiquetas: aliteracy, books, classic, humor\n",
      "--------------------------------------------------\n",
      "Cita: “Imperfection is beauty, madness is genius and it's better to be absolutely ridiculous than absolutely boring.”\n",
      "Autor: Marilyn Monroe\n",
      "Etiquetas: be-yourself, inspirational\n",
      "--------------------------------------------------\n",
      "Cita: “Try not to become a man of success. Rather become a man of value.”\n",
      "Autor: Albert Einstein\n",
      "Etiquetas: adulthood, success, value\n",
      "--------------------------------------------------\n",
      "Cita: “It is better to be hated for what you are than to be loved for what you are not.”\n",
      "Autor: André Gide\n",
      "Etiquetas: life, love\n",
      "--------------------------------------------------\n",
      "Cita: “I have not failed. I've just found 10,000 ways that won't work.”\n",
      "Autor: Thomas A. Edison\n",
      "Etiquetas: edison, failure, inspirational, paraphrased\n",
      "--------------------------------------------------\n",
      "Cita: “A woman is like a tea bag; you never know how strong it is until it's in hot water.”\n",
      "Autor: Eleanor Roosevelt\n",
      "Etiquetas: misattributed-eleanor-roosevelt\n",
      "--------------------------------------------------\n",
      "Cita: “A day without sunshine is like, you know, night.”\n",
      "Autor: Steve Martin\n",
      "Etiquetas: humor, obvious, simile\n",
      "--------------------------------------------------\n"
     ]
    }
   ],
   "source": [
    "from pyquery import PyQuery as pq\n",
    "import requests\n",
    "\n",
    "# URL del sitio web\n",
    "url = \"http://quotes.toscrape.com\"\n",
    "\n",
    "# Realizar una solicitud HTTP al sitio\n",
    "response = requests.get(url)\n",
    "\n",
    "# Crear un objeto PyQuery para analizar el contenido HTML\n",
    "doc = pq(response.text)\n",
    "\n",
    "# Extraer las citas, autores y etiquetas\n",
    "quotes = doc('span.text')\n",
    "authors = doc('small.author')\n",
    "tags_elements = doc('div.tags')\n",
    "\n",
    "# Almacenando los datos extraídos\n",
    "data = []\n",
    "for i in range(len(quotes)):\n",
    "    quote = quotes.eq(i).text()\n",
    "    author = authors.eq(i).text()\n",
    "    # Extraer etiquetas asociadas\n",
    "    quote_tags = [tag.text for tag in tags_elements.eq(i).find('a.tag')]\n",
    "    data.append({\n",
    "        'quote': quote,\n",
    "        'author': author,\n",
    "        'tags': ', '.join(quote_tags)\n",
    "    })\n",
    "\n",
    "# Mostrando los resultados\n",
    "for item in data:\n",
    "    print(f\"Cita: {item['quote']}\")\n",
    "    print(f\"Autor: {item['author']}\")\n",
    "    print(f\"Etiquetas: {item['tags']}\")\n",
    "    print(\"-\" * 50)\n",
    "\n"
   ]
  }
 ],
 "metadata": {
  "kernelspec": {
   "display_name": "Python 3",
   "language": "python",
   "name": "python3"
  },
  "language_info": {
   "codemirror_mode": {
    "name": "ipython",
    "version": 3
   },
   "file_extension": ".py",
   "mimetype": "text/x-python",
   "name": "python",
   "nbconvert_exporter": "python",
   "pygments_lexer": "ipython3",
   "version": "3.13.0"
  }
 },
 "nbformat": 4,
 "nbformat_minor": 2
}
