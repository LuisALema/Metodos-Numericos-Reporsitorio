{
 "cells": [
  {
   "cell_type": "markdown",
   "metadata": {},
   "source": [
    "# Correccion de Examen"
   ]
  },
  {
   "cell_type": "markdown",
   "metadata": {},
   "source": [
    "* Nombre:Luis Lema\n",
    "* Curso:Gr1cc\n",
    "* Materia: Metodos Númericos\n",
    "* Fecha: 10/12/2024"
   ]
  },
  {
   "cell_type": "markdown",
   "metadata": {},
   "source": [
    "## Ejercicios. -"
   ]
  },
  {
   "cell_type": "markdown",
   "metadata": {},
   "source": [
    "# Intersección de Líneas Rectas\n",
    "\n",
    "Suponga que dos puntos $$(x_0, y_0)$$ y $$(x_1, y_1)$$ se encuentran en línea recta con $$y_1 \\neq y_0$$. \n",
    "\n",
    "Existen dos fórmulas para encontrar la intersección $$x$$ de la línea:\n",
    "\n",
    "**Método A**: $$ x = \\frac{x_0 \\times y_1 - x_1 \\times y_0}{y_1 - y_0} $$\n",
    "\n",
    "**Método B**: $$ x = x_0 - \\frac{(x_1 - x_0) \\times y_0}{y_1 - y_0} $$\n"
   ]
  },
  {
   "cell_type": "markdown",
   "metadata": {},
   "source": [
    "# Determinación del Valor de la Intersección\n",
    "\n",
    "Usando los datos $$(x_0, y_0) = (1.31, 3.24)$$ y $$(x_1, y_1) = (1.93, 4.76)$$, determine el valor real de la intersección $$x$$ (asumiendo redondeo a 6 cifras significativas):\n"
   ]
  },
  {
   "cell_type": "code",
   "execution_count": 11,
   "metadata": {},
   "outputs": [
    {
     "name": "stdout",
     "output_type": "stream",
     "text": [
      "El valor de x es: -0.011579\n"
     ]
    }
   ],
   "source": [
    "# Puntos iniciales\n",
    "x0 = 1.31\n",
    "y0 = 3.24\n",
    "x1 = 1.93\n",
    "y1 = 4.76\n",
    "\n",
    "# Usamos el método A para calcular la intersección en x\n",
    "x = (x0 * y1 - x1 * y0) / (y1 - y0)\n",
    "\n",
    "# Redondeamos el resultado a 6 cifras significativas\n",
    "x = round(x, 6)\n",
    "\n",
    "# Mostramos el resultado\n",
    "print(\"El valor de x es:\", x)\n",
    "\n",
    "    "
   ]
  },
  {
   "cell_type": "markdown",
   "metadata": {},
   "source": [
    "# Resolución Usando Aritmética de Computador con Redondeo a 3 Cifras Significativas\n",
    "\n",
    "Usando aritmética de computador con redondeo a 3 cifras significativas resuelva para ambos métodos.\n",
    "\n",
    "**Usando el método A:**\n",
    "$$ x = $$ \n",
    "\n",
    "\n",
    "El error relativo (redondee al final del cálculo a 3 cifras significativas) del método A:\n",
    "$$ \\epsilon = $$ \n",
    "\n",
    "\n",
    "**Usando el método B:**\n",
    "$$ x = $$ \n",
    "\n",
    "El error relativo (redondee al final del cálculo a 3 cifras significativas) del método B:\n",
    "$$ \\epsilon = $$ \n",
    " \n",
    "\n"
   ]
  },
  {
   "cell_type": "markdown",
   "metadata": {},
   "source": [
    "# Metodo A"
   ]
  },
  {
   "cell_type": "code",
   "execution_count": 12,
   "metadata": {},
   "outputs": [
    {
     "name": "stdout",
     "output_type": "stream",
     "text": [
      "Método A:\n",
      "x = -0.012\n",
      "ϵ = 0.412\n"
     ]
    }
   ],
   "source": [
    "# Coordenadas iniciales\n",
    "x0 = 1.31\n",
    "y0 = 3.24\n",
    "x1 = 1.93\n",
    "y1 = 4.76\n",
    "\n",
    "# Cálculo usando el Método A\n",
    "x_a = (x0 * y1 - x1 * y0) / (y1 - y0)\n",
    "\n",
    "# Valor esperado y cálculo del error relativo\n",
    "x_esperado = -0.0197\n",
    "epsilon_a = abs((x_a - x_esperado) / x_esperado)\n",
    "\n",
    "# Redondeo a 3 cifras significativas\n",
    "x_a = round(x_a, 3)\n",
    "epsilon_a = round(epsilon_a, 3)\n",
    "\n",
    "# Imprimir resultados\n",
    "print(\"Método A:\")\n",
    "print(\"x =\", x_a)\n",
    "print(\"ϵ =\", epsilon_a)\n",
    "\n"
   ]
  },
  {
   "cell_type": "markdown",
   "metadata": {},
   "source": [
    "# Metodo B"
   ]
  },
  {
   "cell_type": "code",
   "execution_count": null,
   "metadata": {},
   "outputs": [
    {
     "name": "stdout",
     "output_type": "stream",
     "text": [
      "Método B:\n",
      "x = -0.012\n",
      "ϵ = 0.103\n"
     ]
    }
   ],
   "source": [
    "    # Coordenadas iniciales\n",
    "    x0 = 1.31\n",
    "    y0 = 3.24\n",
    "    x1 = 1.93\n",
    "    y1 = 4.76\n",
    "\n",
    "    # Cálculo usando el Método B\n",
    "    x_b = x0 - ((x1 - x0) * y0) / (y1 - y0)\n",
    "\n",
    "    # Valor esperado y cálculo del error relativo\n",
    "    x_esperado = -0.0105\n",
    "    epsilon_b = abs((x_b - x_esperado) / x_esperado)\n",
    "\n",
    "    # Redondeo a 3 cifras significativas\n",
    "    x_b = round(x_b, 3)\n",
    "    epsilon_b = round(epsilon_b, 3)\n",
    "\n",
    "    # Imprimir resultados\n",
    "    print(\"Método B:\")\n",
    "    print(\"x =\", x_b)\n",
    "    print(\"ϵ =\", epsilon_b)\n"
   ]
  },
  {
   "cell_type": "markdown",
   "metadata": {},
   "source": [
    "# Compracion de los Metodos Para ver cual es el mejor "
   ]
  },
  {
   "cell_type": "code",
   "execution_count": 14,
   "metadata": {},
   "outputs": [
    {
     "name": "stdout",
     "output_type": "stream",
     "text": [
      "Método A: x = -0.0197, ϵ = 0.701\n",
      "Método B: x = -0.0105, ϵ = 0.0931\n",
      "Los valores de x son diferentes.\n",
      "El Método B tiene un error relativo menor.\n"
     ]
    }
   ],
   "source": [
    "# Resultados obtenidos de los métodos\n",
    "x_a = -0.0197\n",
    "epsilon_a = 0.701\n",
    "\n",
    "x_b = -0.0105\n",
    "epsilon_b = 0.0931\n",
    "\n",
    "# Comparación de los resultados\n",
    "print(f\"Método A: x = {x_a}, ϵ = {epsilon_a}\")\n",
    "print(f\"Método B: x = {x_b}, ϵ = {epsilon_b}\")\n",
    "\n",
    "# Comparar los resultados de x\n",
    "if x_a == x_b:\n",
    "    print(\"Ambos métodos dan el mismo valor para x.\")\n",
    "else:\n",
    "    print(\"Los valores de x son diferentes.\")\n",
    "    if epsilon_a < epsilon_b:\n",
    "        print(\"El Método A tiene un error relativo menor.\")\n",
    "    elif epsilon_a > epsilon_b:\n",
    "        print(\"El Método B tiene un error relativo menor.\")\n",
    "    else:\n",
    "        print(\"Ambos métodos tienen el mismo error relativo.\")\n"
   ]
  },
  {
   "cell_type": "markdown",
   "metadata": {},
   "source": [
    "# Ejercicio 2\n",
    "\n",
    "\n",
    "Los primeros tres términos diferentes a cero de la serie de Maclaurin para la función arcotangente son: \n",
    "$$((x - \\frac{1}{3} x^3 + \\frac{1}{5} x^5))$$\n",
    "\n",
    "Calcule el error relativo en las siguientes aproximaciones de $$\\pi$$ mediante el polinomio (en lugar del arcotangente). Asuma que $$\\pi = 3.14159$$.\n",
    "\n",
    "$$ 4 \\left( \\arctan\\left(\\frac{1}{2}\\right) + \\arctan\\left(\\frac{1}{3}\\right) \\right) $$\n",
    "\n"
   ]
  },
  {
   "cell_type": "markdown",
   "metadata": {},
   "source": [
    "\n",
    "Redondee a 4 cifras significativas únicamente en la respuesta final de sus cálculos.\n",
    "$$ \\epsilon = $$"
   ]
  },
  {
   "cell_type": "code",
   "execution_count": 16,
   "metadata": {},
   "outputs": [
    {
     "name": "stdout",
     "output_type": "stream",
     "text": [
      "ε = 0.0013\n"
     ]
    }
   ],
   "source": [
    "pi_real = 3.14159\n",
    "\n",
    "def arctan_approx(x):\n",
    "    return x - (1/3) * x**3 + (1/5) * x**5\n",
    "\n",
    "approximation = 4 * (arctan_approx(1/2) + arctan_approx(1/3))\n",
    "\n",
    "epsilon = abs((approximation - pi_real) / pi_real)\n",
    "\n",
    "epsilon_rounded = round(epsilon, 4)\n",
    "\n",
    "print(\"ε =\", epsilon_rounded)\n",
    "\n"
   ]
  },
  {
   "cell_type": "markdown",
   "metadata": {},
   "source": [
    "¿En qué orden de magnitud está este error? Es decir, $$\\epsilon < 10^n, \\, n$$\n"
   ]
  },
  {
   "cell_type": "code",
   "execution_count": 24,
   "metadata": {},
   "outputs": [
    {
     "name": "stdout",
     "output_type": "stream",
     "text": [
      "Orden de magnitud: n = -3\n"
     ]
    }
   ],
   "source": [
    "import math\n",
    "\n",
    "pi_real = 3.14159\n",
    "\n",
    "def arctan_approx(x):\n",
    "    return x - (1/3) * x**3 + (1/5) * x**5\n",
    "\n",
    "approximation = 4 * (arctan_approx(1/2) + arctan_approx(1/3))\n",
    "\n",
    "epsilon = abs((approximation - pi_real) / pi_real)\n",
    "\n",
    "n = math.floor(math.log10(epsilon))\n",
    "\n",
    "print(\"Orden de magnitud: n =\", n)\n"
   ]
  },
  {
   "cell_type": "markdown",
   "metadata": {},
   "source": [
    "$$ 16 \\times \\arctan\\left(\\frac{1}{5}\\right) - 4 \\times \\arctan\\left(\\frac{1}{239}\\right) $$\n",
    "\n",
    "$$ \\epsilon = $$ \n",
    "**Respuesta:** \n",
    "$$ 0 $$\n",
    "\n",
    "¿En qué orden de magnitud está este error? Es decir, $$\\epsilon < 10^n, \\, n =$$\n"
   ]
  },
  {
   "cell_type": "code",
   "execution_count": 25,
   "metadata": {},
   "outputs": [
    {
     "name": "stdout",
     "output_type": "stream",
     "text": [
      "ε = 0.0\n",
      "Orden de magnitud: n = -6\n"
     ]
    }
   ],
   "source": [
    "import math\n",
    "\n",
    "pi_real = 3.14159\n",
    "\n",
    "def arctan_approx(x):\n",
    "    return x - (1/3) * x**3 + (1/5) * x**5\n",
    "\n",
    "approximation = 16 * arctan_approx(1/5) - 4 * arctan_approx(1/239)\n",
    "\n",
    "epsilon = abs((approximation - pi_real) / pi_real)\n",
    "\n",
    "n = math.floor(math.log10(epsilon))\n",
    "\n",
    "epsilon_rounded = round(epsilon, 4)\n",
    "\n",
    "print(\"ε =\", epsilon_rounded)\n",
    "print(\"Orden de magnitud: n =\", n)\n"
   ]
  },
  {
   "cell_type": "markdown",
   "metadata": {},
   "source": [
    "# Ejercicio 3\n",
    "\n",
    "\n",
    "El método de Newton para encontrar raíces se basa en la siguiente ecuación:\n",
    "\n",
    "$$ x_{n+1} = x_n - \\frac{f(x_n)}{f'(x_n)} $$\n",
    "\n",
    "Cuál es la raíz de la ecuación:\n",
    "\n",
    "$$ x^3 + x = 1 + 3x^2 $$\n",
    "\n"
   ]
  },
  {
   "cell_type": "markdown",
   "metadata": {},
   "source": [
    "**xsol:**\n",
    "**Respuesta**: "
   ]
  },
  {
   "cell_type": "code",
   "execution_count": 28,
   "metadata": {},
   "outputs": [
    {
     "name": "stdout",
     "output_type": "stream",
     "text": [
      "La raíz de la ecuación es: 2.7692923542387\n"
     ]
    }
   ],
   "source": [
    "def f(x):\n",
    "    return x**3 + x - 1 - 3*x**2\n",
    "\n",
    "def f_prime(x):\n",
    "    return 3*x**2 - 6*x + 1\n",
    "\n",
    "def newton_method(x0, tolerance=1e-6, max_iterations=100):\n",
    "    x = x0\n",
    "    for i in range(max_iterations):\n",
    "        fx = f(x)\n",
    "        fx_prime = f_prime(x)\n",
    "        \n",
    "        if fx_prime == 0:\n",
    "            return \"Error: derivada cero\"\n",
    "        \n",
    "        x_next = x - fx / fx_prime\n",
    "        \n",
    "        if abs(x_next - x) < tolerance:\n",
    "            return x_next\n",
    "        \n",
    "        x = x_next\n",
    "    \n",
    "    return \"Error: no converge\"\n",
    "\n",
    "# Caso con x0 = 3.0\n",
    "x0 = 3.0\n",
    "\n",
    "raiz = newton_method(x0)\n",
    "\n",
    "print(\"La raíz de la ecuación es:\", raiz)\n"
   ]
  },
  {
   "cell_type": "markdown",
   "metadata": {},
   "source": [
    "# Qué sucede cuando:\n",
    "\n",
    "**x0 = 3**\n",
    "**Respuesta**"
   ]
  },
  {
   "cell_type": "code",
   "execution_count": 27,
   "metadata": {},
   "outputs": [
    {
     "name": "stdout",
     "output_type": "stream",
     "text": [
      "Resultado para x0 = 3: 2.7692923542387\n"
     ]
    }
   ],
   "source": [
    "import math\n",
    "\n",
    "def f(x):\n",
    "    return x**3 + x - 1 - 3*x**2\n",
    "\n",
    "def f_prime(x):\n",
    "    return 3*x**2 - 6*x + 1\n",
    "\n",
    "def newton_method(x0, tolerance=1e-6, max_iterations=100):\n",
    "    x = x0\n",
    "    for i in range(max_iterations):\n",
    "        fx = f(x)\n",
    "        fx_prime = f_prime(x)\n",
    "        \n",
    "        if fx_prime == 0:\n",
    "            return \"Error [división por 0]\"\n",
    "        \n",
    "        x_next = x - fx / fx_prime\n",
    "        \n",
    "        if abs(x_next - x) < tolerance:\n",
    "            return x_next\n",
    "        \n",
    "        x = x_next\n",
    "    \n",
    "    return \"Error [diverge u oscila]\"\n",
    "\n",
    "x0_1 = 3\n",
    "result_1 = newton_method(x0_1)\n",
    "print(\"Resultado para x0 = 3:\", result_1)\n"
   ]
  },
  {
   "cell_type": "markdown",
   "metadata": {},
   "source": [
    "**x0 = 1**\n",
    "**Respuesta**: "
   ]
  },
  {
   "cell_type": "code",
   "execution_count": 29,
   "metadata": {},
   "outputs": [
    {
     "name": "stdout",
     "output_type": "stream",
     "text": [
      "Resultado para x0 = 1: Error [diverge u oscila]\n"
     ]
    }
   ],
   "source": [
    "import math\n",
    "\n",
    "def f(x):\n",
    "    return x**3 + x - 1 - 3*x**2\n",
    "\n",
    "def f_prime(x):\n",
    "    return 3*x**2 - 6*x + 1\n",
    "\n",
    "def newton_method(x0, tolerance=1e-6, max_iterations=100):\n",
    "    x = x0\n",
    "    for i in range(max_iterations):\n",
    "        fx = f(x)\n",
    "        fx_prime = f_prime(x)\n",
    "        \n",
    "        if fx_prime == 0:\n",
    "            return \"Error [división por 0]\"\n",
    "        \n",
    "        x_next = x - fx / fx_prime\n",
    "        \n",
    "        if abs(x_next - x) < tolerance:\n",
    "            return x_next\n",
    "        \n",
    "        x = x_next\n",
    "    \n",
    "    return \"Error [diverge u oscila]\"\n",
    "\n",
    "x0_2 = 1\n",
    "result_2 = newton_method(x0_2)\n",
    "print(\"Resultado para x0 = 1:\", result_2)\n"
   ]
  },
  {
   "cell_type": "markdown",
   "metadata": {},
   "source": [
    "**x0 = 0**\n",
    "**Respuesta**: "
   ]
  },
  {
   "cell_type": "code",
   "execution_count": 30,
   "metadata": {},
   "outputs": [
    {
     "name": "stdout",
     "output_type": "stream",
     "text": [
      "Resultado para x0 = 0: Error [diverge u oscila]\n"
     ]
    }
   ],
   "source": [
    "import math\n",
    "\n",
    "def f(x):\n",
    "    return x**3 + x - 1 - 3*x**2\n",
    "\n",
    "def f_prime(x):\n",
    "    return 3*x**2 - 6*x + 1\n",
    "\n",
    "def newton_method(x0, tolerance=1e-6, max_iterations=100):\n",
    "    x = x0\n",
    "    for i in range(max_iterations):\n",
    "        fx = f(x)\n",
    "        fx_prime = f_prime(x)\n",
    "        \n",
    "        if fx_prime == 0:\n",
    "            return \"Error [división por 0]\"\n",
    "        \n",
    "        x_next = x - fx / fx_prime\n",
    "        \n",
    "        if abs(x_next - x) < tolerance:\n",
    "            return x_next\n",
    "        \n",
    "        x = x_next\n",
    "    \n",
    "    return \"Error [diverge u oscila]\"\n",
    "\n",
    "x0_3 = 0\n",
    "result_3 = newton_method(x0_3)\n",
    "print(\"Resultado para x0 = 0:\", result_3)\n"
   ]
  },
  {
   "cell_type": "markdown",
   "metadata": {},
   "source": [
    "\n",
    "**x0 = $$(\\frac{1 + \\sqrt{6}}{3})$$**\n",
    "**Respuesta**"
   ]
  },
  {
   "cell_type": "code",
   "execution_count": 34,
   "metadata": {},
   "outputs": [
    {
     "name": "stdout",
     "output_type": "stream",
     "text": [
      "Resultado para x0 = (1 + 6**0.5) / 3: Error [sin cambio de signo]\n"
     ]
    }
   ],
   "source": [
    "import math\n",
    "\n",
    "def f(x):\n",
    "    return x**3 + x - 1 - 3*x**2\n",
    "\n",
    "def f_prime(x):\n",
    "    return 3*x**2 - 6*x + 1\n",
    "\n",
    "def newton_method(x0, tolerance=1e-6, max_iterations=100):\n",
    "    x = x0\n",
    "    for i in range(max_iterations):\n",
    "        fx = f(x)\n",
    "        fx_prime = f_prime(x)\n",
    "        \n",
    "        if fx_prime == 0:\n",
    "            return \"Error [división por 0]\"\n",
    "        \n",
    "        x_next = x - fx / fx_prime\n",
    "        \n",
    "        if abs(x_next - x) < tolerance:\n",
    "            return x_next\n",
    "        \n",
    "        x = x_next\n",
    "    \n",
    "    return \"Error [sin cambio de signo]\"\n",
    "\n",
    "x0_4 = (1 + 6**0.5) / 3\n",
    "result_4 = newton_method(x0_4)\n",
    "print(\"Resultado para x0 = (1 + 6**0.5) / 3:\", result_4)\n",
    "\n"
   ]
  },
  {
   "cell_type": "markdown",
   "metadata": {},
   "source": [
    "# Ejercicio 4\n",
    "La función sin(x)\n",
    " tiene infinitas soluciones {...,−2π,−π,0,π,2π,...}\n",
    ".\n",
    "\n",
    "\n",
    "\n",
    "¿A cuál solución converge el método de la Bisección en los siguientes intervalos"
   ]
  },
  {
   "cell_type": "code",
   "execution_count": 36,
   "metadata": {},
   "outputs": [
    {
     "name": "stdout",
     "output_type": "stream",
     "text": [
      "Resultado para el intervalo a=-1, b=2: -9.5367431640625e-07\n",
      "Resultado para el intervalo a=-4, b=5: 3.141591787338257\n",
      "Resultado para el intervalo a=3, b=5: 3.141592025756836\n",
      "Resultado para el intervalo a=-3.5, b=3: Error [sin cambio de signo]\n",
      "Resultado para el intervalo a=-5, b=4: -3.141591787338257\n",
      "Resultado para el intervalo a=-2.5, b=-1: Error [sin cambio de signo]\n"
     ]
    }
   ],
   "source": [
    "import math\n",
    "\n",
    "def f(x):\n",
    "    return math.sin(x)\n",
    "\n",
    "def bisection_method(a, b, tolerance=1e-6, max_iterations=100):\n",
    "    if f(a) * f(b) > 0:\n",
    "        return \"Error [sin cambio de signo]\"\n",
    "    \n",
    "    for i in range(max_iterations):\n",
    "        c = (a + b) / 2\n",
    "        if abs(f(c)) < tolerance:\n",
    "            return c\n",
    "        \n",
    "        if f(c) * f(a) < 0:\n",
    "            b = c\n",
    "        else:\n",
    "            a = c\n",
    "    \n",
    "    return \"Error [división para 0]\"\n",
    "\n",
    "# Casos de prueba\n",
    "intervalos = [\n",
    "    (-1, 2),\n",
    "    (-4, 5),\n",
    "    (3, 5),\n",
    "    (-3.5, 3),\n",
    "    (-5, 4),\n",
    "    (-2.5, -1)\n",
    "]\n",
    "\n",
    "for i, (a, b) in enumerate(intervalos):\n",
    "    resultado = bisection_method(a, b)\n",
    "    print(f\"Resultado para el intervalo a={a}, b={b}: {resultado}\")\n",
    "\n",
    "\n"
   ]
  },
  {
   "cell_type": "markdown",
   "metadata": {},
   "source": [
    "# Método de la Secante\n",
    "\n",
    "El método de la Secante se basa en la siguiente fórmula: \n",
    "\n",
    "$$ x_n = x_{n-1} - \\frac{y_{n-1} (x_{n-1} - x_{n-2})}{y_{n-1} - y_{n-2}} $$\n",
    "\n",
    "En base a esta fórmula, se ha generado el siguiente código:\n",
    "\n",
    "```python\n",
    "def secant_method(f, x0, x1, tol=1e-6, max_iter=100):    \n",
    "    x_prev = x0\n",
    "    x_curr = x1\n",
    "    iter_count = 0\n",
    "\n",
    "    while abs(f(x_curr)) > tol and iter_count < max_iter:\n",
    "        # Calculate the next approximation using the secant method formula\n",
    "        x_next = x_curr - f(x_curr) * (x_curr - x_prev) / (f(x_curr) - f(x_prev))\n",
    "\n",
    "        # Update variables for the next iteration\n",
    "        x_prev = x_curr\n",
    "        x_curr = x_next\n",
    "        iter_count += 1\n",
    "\n",
    "    return x_curr, iter_count\n",
    "\n"
   ]
  },
  {
   "cell_type": "markdown",
   "metadata": {},
   "source": [
    "El código funciona correctamente. Sin embargo, al depurarlo y profundizar en su ejecución, usted ha notado que el código realiza llamadas repetitivas e innecesarias. \n",
    "Esto se evidencia en la siguiente Figura:\n",
    "\n",
    "La variable $$ i $$ representa el número de invocaciones a la función. En el Ejemplo 1, se recalcula innecesariamente $$ f(x = 3) $$ en las llamadas $$ i = 1, 2, 3, 8 $$. Lo mismo sucede en $$ i = 5, 6, 7, 12 $$ para $$ f(x = 2.6) $$. Esto ocasiona que se realicen 25 llamadas a la función en el Ejemplo 1."
   ]
  },
  {
   "cell_type": "markdown",
   "metadata": {},
   "source": [
    "# Ejemplo 1"
   ]
  },
  {
   "cell_type": "code",
   "execution_count": 37,
   "metadata": {},
   "outputs": [
    {
     "name": "stdout",
     "output_type": "stream",
     "text": [
      "Llamada i=1\t x=2.00000\t y=-3.00\n",
      "Llamada i=2\t x=3.00000\t y=2.00\n",
      "Llamada i=3\t x=2.60000\t y=-1.10\n",
      "Llamada i=4\t x=2.74227\t y=-0.20\n",
      "Llamada i=5\t x=2.77296\t y=0.03\n",
      "Llamada i=6\t x=2.76922\t y=-0.00\n",
      "Llamada i=7\t x=2.76929\t y=-0.00\n",
      "Llamada i=8\t x=2.76929\t y=0.00\n",
      "\n",
      "Raíz encontrada: 2.769292\n",
      "Total de iteraciones: 6\n"
     ]
    }
   ],
   "source": [
    "def secant_method(f, x0, x1, tol=1e-6, max_iter=100):\n",
    "    x_prev = x0\n",
    "    x_curr = x1\n",
    "    f_prev = f(x_prev)\n",
    "    f_curr = f(x_curr)\n",
    "    iter_count = 0\n",
    "\n",
    "    while abs(f_curr) > tol and iter_count < max_iter:\n",
    "        x_next = x_curr - f_curr * (x_curr - x_prev) / (f_curr - f_prev)\n",
    "\n",
    "        x_prev, x_curr = x_curr, x_next\n",
    "        f_prev, f_curr = f_curr, f(x_next)\n",
    "        iter_count += 1\n",
    "\n",
    "    return x_curr, iter_count\n",
    "\n",
    "i = 0\n",
    "\n",
    "def func(x):\n",
    "    global i\n",
    "    i += 1\n",
    "    y = x**3 - 3 * x**2 + x - 1\n",
    "    print(f\"Llamada i={i}\\t x={x:.5f}\\t y={y:.2f}\")\n",
    "    return y\n",
    "\n",
    "root, iterations = secant_method(func, x0=2, x1=3)\n",
    "\n",
    "print(f\"\\nRaíz encontrada: {root:.6f}\")\n",
    "print(f\"Total de iteraciones: {iterations}\")\n"
   ]
  },
  {
   "cell_type": "markdown",
   "metadata": {},
   "source": [
    "#  Ejemplo 2"
   ]
  },
  {
   "cell_type": "code",
   "execution_count": 38,
   "metadata": {},
   "outputs": [
    {
     "name": "stdout",
     "output_type": "stream",
     "text": [
      "Llamada i=1\t x=2.00000\t y=1.41\n",
      "Llamada i=2\t x=3.00000\t y=0.64\n",
      "Llamada i=3\t x=3.83460\t y=-0.14\n",
      "Llamada i=4\t x=3.68602\t y=-0.02\n",
      "Llamada i=5\t x=3.66399\t y=0.00\n",
      "Llamada i=6\t x=3.66520\t y=-0.00\n",
      "Llamada i=7\t x=3.66519\t y=-0.00\n"
     ]
    },
    {
     "data": {
      "text/plain": [
       "(3.66519143172732, 5)"
      ]
     },
     "execution_count": 38,
     "metadata": {},
     "output_type": "execute_result"
    }
   ],
   "source": [
    "i = 0\n",
    "import math\n",
    "\n",
    "\n",
    "def func(x):\n",
    "    global i\n",
    "    i += 1\n",
    "    y = math.sin(x) + 0.5\n",
    "    print(f\"Llamada i={i}\\t x={x:.5f}\\t y={y:.2f}\")\n",
    "    return y\n",
    "\n",
    "\n",
    "secant_method(func, x0=2, x1=3)"
   ]
  },
  {
   "cell_type": "markdown",
   "metadata": {},
   "source": [
    "# Luego de optimizar el código y utilizando $$( x_0 = 2 )$$, $$ (x_1 = 3 )$$, conteste:\n",
    "¿Cuál es el número mínimo de llamadas a la función para llegar a la raíz en el Ejemplo 1?\n",
    "$$ i = $$\n",
    "**Respuesta**:\n",
    "$$ 8 $$\n",
    "\n",
    "¿Cuál es el número mínimo de llamadas a la función para llegar a la raíz en el Ejemplo 2?\n",
    "$$ i = $$\n",
    "**Respuesta**:\n",
    "$$ 7 $$\n"
   ]
  },
  {
   "cell_type": "markdown",
   "metadata": {},
   "source": [
    "# Ejercicio 6\n"
   ]
  },
  {
   "cell_type": "markdown",
   "metadata": {},
   "source": [
    "\n",
    "Dados los puntos $(-1, 1)$, $(0, 5)$, $(1, 3)$, se han obtenido los splines cúbicos correspondientes. \n",
    "\n",
    "Sin embargo, al observar la figura, usted no se siente satisfecho con la pendiente resultante en el punto $(x_1, y_1)$. Y decide intentar una modificación a las ecuaciones, tal que los splines sean tangentes a una pendiente deseada $$m$$ en el punto $(x_1, y_1)$.\n",
    "\n",
    "Recuerde que la expresión de un spline cúbico es la siguiente:\n",
    "$$ S_i(x) = a_i + b_i(x - x_i) + c_i(x - x_i)^2 + d_i(x - x_i)^3 $$\n",
    "\n",
    "¿En caso de ser posible, y bajo qué condiciones se puede encontrar los splines cúbicos que cumplan con la condición de $$m$$?\n"
   ]
  },
  {
   "cell_type": "markdown",
   "metadata": {},
   "source": [
    "### Ecuaciones\n",
    "- S₀(x₀) = ½\n",
    "  - a₀ = 1\n",
    "\n",
    "- S₀(x₁) = 3¹\n",
    "  - 1 + b₀(x₁ - x₀) + c₀(x₁ - x₀)² + d₀(x₁ - x₀)³ = 5\n",
    "  - b₀ + c₀ + d₀ = 4\n",
    "\n",
    "- S₁(x₁) = y₁\n",
    "  - a₁ = 5\n",
    "\n",
    "- S₁(x₂) = 3²\n",
    "  - 5 + b₁(x₂ - x₁) + c₁(x₂ - x₁)² + d₁(x₂ - x₁)³ = 3\n",
    "  - 3 = b₁ + c₁ + d₁\n",
    "\n",
    "- S₀'(x₀) - S₁'(x₁)\n",
    "  - b₀ + 2c₀(x₁ - x₀) + 3d₀(x₁ - x₀)² = b₁ + c₀(x₁ - x₀) + d₀(x₁ - x₀)²\n",
    "  - b₀ + 2c₀ + 3d₀ = b₁ = -2\n",
    "  - b₀ + 3d₀ = 4\n",
    "  - 2d₀ = -6\n",
    "  - d₀ = -3\n",
    "  - b₀ = 7\n",
    "\n",
    "- S₀''(x₀) = 0\n",
    "  - c₀ = 0\n",
    "\n",
    "- S₁''(x₁) = 0\n",
    "  - 2c₁ + 6d₁ = 0\n",
    "  - c₁ = -3d₁\n",
    "\n",
    "- mn = -2 = S₁'(x₁)\n",
    "  - -2 = b₁\n",
    "\n"
   ]
  },
  {
   "cell_type": "code",
   "execution_count": 40,
   "metadata": {},
   "outputs": [
    {
     "name": "stdout",
     "output_type": "stream",
     "text": [
      "Solución encontrada:\n",
      "Coeficientes del spline: [ 5.42857143 -5.71428571]\n"
     ]
    }
   ],
   "source": [
    "import numpy as np\n",
    "\n",
    "# Datos de entrada\n",
    "x0, y0 = -1, 1\n",
    "x1, y1 = 0, 5\n",
    "x2, y2 = 1, 3\n",
    "m = 4  # Pendiente deseada en el punto (x1, y1)\n",
    "\n",
    "# Condiciones de spline cúbico\n",
    "h0 = x1 - x0\n",
    "h1 = x2 - x1\n",
    "\n",
    "# Resolver el sistema de ecuaciones de los splines cúbicos\n",
    "# Usamos un sistema simplificado y más adecuado para el spline cúbico\n",
    "A = np.array([\n",
    "    [2 * (h0 + h1), h1],       # Primera fila\n",
    "    [h1, 2 * h1]               # Segunda fila\n",
    "])\n",
    "\n",
    "B = np.array([\n",
    "    3 * (y1 - y0) / h0 + m,    # Pendiente m en x1\n",
    "    3 * (y2 - y1) / h1         # Continuidad de la derivada\n",
    "])\n",
    "\n",
    "# Resolver el sistema de ecuaciones\n",
    "try:\n",
    "    coeffs = np.linalg.solve(A, B)\n",
    "    print(\"Solución encontrada:\")\n",
    "    print(\"Coeficientes del spline:\", coeffs)\n",
    "except np.linalg.LinAlgError:\n",
    "    print(\"Error: el sistema no tiene solución única (matriz singular)\")\n",
    "\n",
    "\n"
   ]
  },
  {
   "cell_type": "code",
   "execution_count": 1,
   "metadata": {},
   "outputs": [
    {
     "data": {
      "image/png": "[encoded data removed]",
      "text/plain": [
       "<Figure size 640x480 with 1 Axes>"
      ]
     },
     "metadata": {},
     "output_type": "display_data"
    }
   ],
   "source": [
    "import matplotlib.pyplot as plt\n",
    "import numpy as np\n",
    "\n",
    "def Spline(x, x_i, coef):\n",
    "    dx = x - x_i\n",
    "    return coef[\"a\"] + coef[\"b\"]*dx + coef[\"c\"]*dx**2 + coef[\"d\"]*dx**3\n",
    "\n",
    "def plot_tangente(x1, y1, m):\n",
    "    x = np.array([x1-0.5, x1+0.5])\n",
    "    y = m*(x - x1) + y1\n",
    "    plt.plot(x, y, '--g', label='Tangente')\n",
    "\n",
    "xs = [-1, 0, 1]\n",
    "ys = [1, 5, 3]\n",
    "\n",
    "s = [\n",
    "    {\"a\": 1, \"b\": 5.5, \"c\": 0, \"d\": -1.5},\n",
    "    {\"a\": 5, \"b\": 1, \"c\": -4.5, \"d\": 1.5},\n",
    "]\n",
    "\n",
    "for i, x_i in enumerate(xs[:-1]):\n",
    "    _x = np.linspace(x_i, xs[i + 1], 20)\n",
    "    _y = Spline(_x, x_i, s[i])\n",
    "    plt.plot(_x, _y, color=\"blue\")\n",
    "\n",
    "\n",
    "plot_tangente(0, 5, 1)  \n",
    "\n",
    "plt.scatter(xs, ys)\n",
    "plt.xlabel(\"x\")\n",
    "plt.ylabel(\"y\")\n",
    "plt.title(\"Splines cúbicos y tangente\")\n",
    "plt.legend()\n",
    "plt.grid(True)\n",
    "plt.show()"
   ]
  },
  {
   "cell_type": "markdown",
   "metadata": {},
   "source": [
    "Ejercicio 7\n",
    "\n",
    "La interpolación de un conjunto de puntos usando polinomios de Lagrange \\(P(x)\\) está dada por la fórmula: \n",
    "\n",
    "$$ P(x) = \\sum_{k=0}^n f(x_k) L_k(x) $$\n",
    "\n",
    "Donde:\n",
    "\n",
    "$$ L_k(x) = \\prod_{i=0, i \\neq k}^n \\frac{x - x_i}{x_k - x_i} $$\n",
    "\n",
    "Dados los puntos \\((0,0)\\), \\((1,1)\\), \\((2,2)\\), \\((3,3)\\):\n",
    "\n",
    "El polinomio resultante simplificado tiene orden = **Respuesta:**\n",
    "$$ 3 $$\n",
    "\n",
    "Encuentre el polinomio de Lagrange respectivo (simplifique la expresión para facilitar la evaluación) \\(P(x) =\\)\n",
    "**Respuesta:**\n",
    "$$ x $$\n",
    "\n",
    "Usando el polinomio \\(P(x)\\) que obtuvo de respuesta, calcule:\n",
    "\n",
    "\\(P(x = 3.78) =\\)\n",
    "**Respuesta:**\n",
    "$$ 3.78 $$\n",
    "\n",
    "\\(P(x = 19.102) =\\)\n",
    "**Respuesta:**\n",
    "$$ 19.102 $$\n"
   ]
  },
  {
   "cell_type": "code",
   "execution_count": 2,
   "metadata": {},
   "outputs": [
    {
     "name": "stdout",
     "output_type": "stream",
     "text": [
      "Polinomio simplificado: P(x) = x\n",
      "P(3.78) = 3.78000000000000\n",
      "P(19.102) = 19.1020000000000\n"
     ]
    }
   ],
   "source": [
    "import sympy as sp\n",
    "\n",
    "puntos = [(0, 0), (1, 1), (2, 2), (3, 3)]\n",
    "x = sp.symbols('x')\n",
    "\n",
    "def polinomio_lagrange(puntos):\n",
    "    n = len(puntos)\n",
    "    P = 0\n",
    "    for k in range(n):\n",
    "        xk, yk = puntos[k]\n",
    "        Lk = 1\n",
    "        for i in range(n):\n",
    "            if i != k:\n",
    "                xi, _ = puntos[i]\n",
    "                Lk *= (x - xi) / (xk - xi)\n",
    "        P += yk * Lk\n",
    "    return sp.simplify(P)\n",
    "\n",
    "P = polinomio_lagrange(puntos)\n",
    "P_simplificado = sp.simplify(P)\n",
    "\n",
    "x_valores = [3.78, 19.102]\n",
    "resultados = [P_simplificado.subs(x, val) for val in x_valores]\n",
    "\n",
    "print(f\"Polinomio simplificado: P(x) = {P_simplificado}\")\n",
    "for val, res in zip(x_valores, resultados):\n",
    "    print(f\"P({val}) = {res}\")\n"
   ]
  },
  {
   "cell_type": "markdown",
   "metadata": {},
   "source": [
    "# Ejercicio 8\n",
    "\n",
    "Dados los puntos \\((-1, 1)\\), \\((1, 3)\\). Determine el spline cúbico teniendo en cuenta que $$( f'(x_0) = 1 )$$, $$( f'(x_n) = 2 )$$.\n",
    "\n",
    "**$$( S_0(x) = )$$**\n",
    "\n",
    "\n"
   ]
  },
  {
   "cell_type": "markdown",
   "metadata": {},
   "source": [
    "### Ecuaciones\n",
    "- S₀(x₀) = $$\\frac{1}{2}$$\n",
    "  - a₀ = 1\n",
    "\n",
    "- S₀(x₁) = 3¹\n",
    "  - 1 + b₀(x₁ - x₀) + c₀(x₁ - x₀)² + d₀(x₁ - x₀)³ = 5\n",
    "  - b₀ + c₀ + d₀ = 4\n",
    "\n",
    "- S₁(x₁) = y₁\n",
    "  - a₁ = 5\n",
    "\n",
    "- S₁(x₂) = 3²\n",
    "  - 5 + b₁(x₂ - x₁) + c₁(x₂ - x₁)² + d₁(x₂ - x₁)³ = 3\n",
    "  - b₁ + c₁ + d₁ = 3\n",
    "\n",
    "- S₀'(x₀) - S₁'(x₁)\n",
    "  - b₀ + 2c₀(x₁ - x₀) + 3d₀(x₁ - x₀)² = b₁ + c₀(x₁ - x₀) + d₀(x₁ - x₀)²\n",
    "  - b₀ + 2c₀ + 3d₀ = b₁ = -2\n",
    "  - b₀ + 3d₀ = 4\n",
    "  - 2d₀ = -6\n",
    "  - d₀ = -3\n",
    "  - b₀ = 7\n",
    "\n",
    "- S₀''(x₀) = 0\n",
    "  - c₀ = 0\n",
    "\n",
    "- S₁''(x₁) = 0\n",
    "  - 2c₁ + 6d₁ = 0\n",
    "  - c₁ = -3d₁\n",
    "\n",
    "- mn = -2 = S₁'(x₁)\n",
    "  - -2 = b₁\n",
    "\n",
    "\n"
   ]
  },
  {
   "cell_type": "code",
   "execution_count": 3,
   "metadata": {},
   "outputs": [
    {
     "name": "stdout",
     "output_type": "stream",
     "text": [
      "Spline cúbico S0(x):\n",
      "-x**3/12 + x**2/4 + 7*x/4 + 29/12\n"
     ]
    }
   ],
   "source": [
    "import sympy as sp\n",
    "\n",
    "x = sp.Symbol('x')\n",
    "x0, x1 = -1, 1\n",
    "y0, y1 = 1, 3\n",
    "f_prime_x0 = 1\n",
    "f_prime_x1 = 2\n",
    "\n",
    "a = y0\n",
    "b = f_prime_x0\n",
    "h = x1 - x0\n",
    "\n",
    "c = sp.Symbol('c')\n",
    "d = sp.Symbol('d')\n",
    "\n",
    "eq1 = b + 2 * c * h + 3 * d * h**2 - f_prime_x1\n",
    "eq2 = c + 3 * d * h - (y1 - y0 - b * h) / h**2\n",
    "\n",
    "sol = sp.solve([eq1, eq2], (c, d))\n",
    "\n",
    "c_val = sol[c]\n",
    "d_val = sol[d]\n",
    "\n",
    "spline = a + b * (x - x0) + c_val * (x - x0)**2 + d_val * (x - x0)**3\n",
    "spline = sp.simplify(spline)\n",
    "\n",
    "print(\"Spline cúbico S0(x):\")\n",
    "print(spline)\n"
   ]
  }
 ],
 "metadata": {
  "kernelspec": {
   "display_name": "Python 3",
   "language": "python",
   "name": "python3"
  },
  "language_info": {
   "codemirror_mode": {
    "name": "ipython",
    "version": 3
   },
   "file_extension": ".py",
   "mimetype": "text/x-python",
   "name": "python",
   "nbconvert_exporter": "python",
   "pygments_lexer": "ipython3",
   "version": "3.13.0"
  }
 },
 "nbformat": 4,
 "nbformat_minor": 2
}
